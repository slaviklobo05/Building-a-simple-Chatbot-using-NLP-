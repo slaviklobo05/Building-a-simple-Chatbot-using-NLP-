{
 "cells": [
  {
   "cell_type": "code",
   "execution_count": 31,
   "id": "b2507670",
   "metadata": {},
   "outputs": [],
   "source": [
    "import io\n",
    "import random\n",
    "import string # to process standard python strings\n",
    "import warnings\n",
    "import numpy as np\n",
    "from sklearn.feature_extraction.text import TfidfVectorizer\n",
    "from sklearn.metrics.pairwise import cosine_similarity\n",
    "import warnings\n",
    "warnings.filterwarnings('ignore')"
   ]
  },
  {
   "cell_type": "code",
   "execution_count": 32,
   "id": "51c02d89",
   "metadata": {},
   "outputs": [
    {
     "data": {
      "text/plain": [
       "True"
      ]
     },
     "execution_count": 32,
     "metadata": {},
     "output_type": "execute_result"
    }
   ],
   "source": [
    "import nltk\n",
    "from nltk.stem import WordNetLemmatizer\n",
    "nltk.download('popular', quiet=True)"
   ]
  },
  {
   "cell_type": "code",
   "execution_count": 33,
   "id": "44cc02c0",
   "metadata": {},
   "outputs": [],
   "source": [
    "f=open('ipl2.txt','r',errors = 'ignore')\n",
    "raw=f.read()\n",
    "raw = raw.lower()"
   ]
  },
  {
   "cell_type": "code",
   "execution_count": 34,
   "id": "23bc6d13",
   "metadata": {},
   "outputs": [],
   "source": [
    "sent_tokens = nltk.sent_tokenize(raw) \n",
    "word_tokens = nltk.word_tokenize(raw)"
   ]
  },
  {
   "cell_type": "code",
   "execution_count": 35,
   "id": "28de6564",
   "metadata": {},
   "outputs": [],
   "source": [
    "lemmer = nltk.stem.WordNetLemmatizer()\n",
    "def LemTokens(tokens):\n",
    "    return [lemmer.lemmatize(token) for token in tokens]\n",
    "remove_punct_dict = dict((ord(punct), None) for punct in string.punctuation)\n",
    "\n",
    "def LemNormalize(text):\n",
    "    return LemTokens(nltk.word_tokenize(text.lower().translate(remove_punct_dict)))"
   ]
  },
  {
   "cell_type": "code",
   "execution_count": 36,
   "id": "acdfb686",
   "metadata": {},
   "outputs": [],
   "source": [
    "GREETING_INPUTS = (\"hello\", \"hi\", \"greetings\", \"sup\", \"what's up\",\"hey\",)\n",
    "GREETING_RESPONSES = [\"hi\", \"hey\", \"*nods*\", \"hi there\", \"hello\", \"I am glad! You are talking to me\"]\n",
    "def greeting(sentence):\n",
    " \n",
    "    for word in sentence.split():\n",
    "        if word.lower() in GREETING_INPUTS:\n",
    "            return random.choice(GREETING_RESPONSES)"
   ]
  },
  {
   "cell_type": "code",
   "execution_count": 37,
   "id": "f9c6c5fe",
   "metadata": {},
   "outputs": [],
   "source": [
    "def response(user_response):\n",
    "    robo_response=''\n",
    "    sent_tokens.append(user_response)\n",
    "    TfidfVec = TfidfVectorizer(tokenizer=LemNormalize, stop_words='english')\n",
    "    tfidf = TfidfVec.fit_transform(sent_tokens)\n",
    "    vals = cosine_similarity(tfidf[-1], tfidf)\n",
    "    idx=vals.argsort()[0][-2]\n",
    "    flat = vals.flatten()\n",
    "    flat.sort()\n",
    "    req_tfidf = flat[-2]\n",
    "    if(req_tfidf==0):\n",
    "        robo_response=robo_response+\"I am sorry! I don't understand you\"\n",
    "        return robo_response\n",
    "    else:\n",
    "        robo_response = robo_response+sent_tokens[idx]\n",
    "        return robo_response"
   ]
  },
  {
   "cell_type": "code",
   "execution_count": 38,
   "id": "f726d653",
   "metadata": {},
   "outputs": [
    {
     "name": "stdout",
     "output_type": "stream",
     "text": [
      ": My name is RoboBot. I will answer your queries about Chatbots. If you want to exit, type Bye!\n",
      "hello\n",
      "ROBOBOT: hi there\n",
      "what is ipl\n",
      "ROBOBOT: the indian premier league (ipl) (also known as the tata ipl for sponsorship reasons) is a men's twenty20 (t20) cricket league that is annually held in india and contested by ten city-based franchise teams.\n",
      "who is the present orange cap holder\n",
      "ROBOBOT: shubman gill of gujarat titans scored 890 runs throughout the 2023 season is the present holder of the orange cap.\n",
      "who is the present purple cap holder\n",
      "ROBOBOT: purple cap\n",
      "the purple cap is awarded to the highest wicket-taker at the end of each season.\n",
      "who won the most valuable player award\n",
      "ROBOBOT: shubman gill won the award in 2023 as the most valuable player.\n",
      "give me general stats of ipl\n",
      "ROBOBOT: the ipl rules mandate half of the prize money must be distributed among the players\n",
      "\n",
      "general stats of ipl\n",
      "most hundreds was produced by virat kohli with 7.\n",
      "most fifties was achieved by david warner with 65.\n",
      "most wickets was backed by yuzvendra chahal with 187.\n",
      "lowest bowling average was bowled by lasith malinga with average of 19.79.\n",
      "best economy rate was bowled by rashid khan with average of 6.49.\n",
      "best bowling figures in ipl is bowled by alzarri joseph 6/12 vs sunrisers hyderabad.\n",
      "thank you \n",
      "ROBOBOT: I am sorry! I don't understand you\n",
      "bye\n",
      "ROBOBOT: Bye! take care..\n"
     ]
    }
   ],
   "source": [
    "flag=True\n",
    "print(\": My name is RoboBot. I will answer your queries about Chatbots. If you want to exit, type Bye!\")\n",
    "while(flag==True):\n",
    "    user_response = input()\n",
    "    user_response=user_response.lower()\n",
    "    if(user_response!='bye'):\n",
    "        if(user_response=='thanks' or user_response=='thank you' ):\n",
    "            flag=False\n",
    "            print(\"ROBOBOT: You are welcome..\")\n",
    "        else:\n",
    "            if(greeting(user_response)!=None):\n",
    "                print(\"ROBOBOT: \"+greeting(user_response))\n",
    "            else:\n",
    "                print(\"ROBOBOT: \",end=\"\")\n",
    "                print(response(user_response))\n",
    "                sent_tokens.remove(user_response)\n",
    "    else:\n",
    "        flag=False\n",
    "        print(\"ROBOBOT: Bye! take care..\")"
   ]
  },
  {
   "cell_type": "code",
   "execution_count": null,
   "id": "e55096c9",
   "metadata": {},
   "outputs": [],
   "source": []
  },
  {
   "cell_type": "code",
   "execution_count": null,
   "id": "8a0e30d9",
   "metadata": {},
   "outputs": [],
   "source": []
  }
 ],
 "metadata": {
  "kernelspec": {
   "display_name": "Python 3 (ipykernel)",
   "language": "python",
   "name": "python3"
  },
  "language_info": {
   "codemirror_mode": {
    "name": "ipython",
    "version": 3
   },
   "file_extension": ".py",
   "mimetype": "text/x-python",
   "name": "python",
   "nbconvert_exporter": "python",
   "pygments_lexer": "ipython3",
   "version": "3.9.7"
  }
 },
 "nbformat": 4,
 "nbformat_minor": 5
}
